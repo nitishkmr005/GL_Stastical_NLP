{
 "cells": [
  {
   "cell_type": "markdown",
   "metadata": {
    "colab_type": "text",
    "id": "mQKm7K78KMQa"
   },
   "source": [
    "#### Load Movie reviews Dataset"
   ]
  },
  {
   "cell_type": "markdown",
   "metadata": {
    "colab_type": "text",
    "id": "IS0axMJDKrph"
   },
   "source": [
    "We will be using data available on Kaggle platform for this exercise. The data is available at https://www.kaggle.com/c/word2vec-nlp-tutorial/data."
   ]
  },
  {
   "cell_type": "code",
   "execution_count": null,
   "metadata": {
    "colab": {},
    "colab_type": "code",
    "id": "WxnI1KLhLJ_J"
   },
   "outputs": [],
   "source": [
    "#Connect Google drive to colab\n",
    "from google.colab import drive\n",
    "drive.mount('/gdrive')"
   ]
  },
  {
   "cell_type": "markdown",
   "metadata": {
    "colab_type": "text",
    "id": "zDssadQzJnmz"
   },
   "source": [
    "Load dataset"
   ]
  },
  {
   "cell_type": "code",
   "execution_count": null,
   "metadata": {
    "colab": {},
    "colab_type": "code",
    "id": "1Y_ohNjGKt6R"
   },
   "outputs": [],
   "source": [
    "import pandas as pd\n",
    "import numpy as np"
   ]
  },
  {
   "cell_type": "code",
   "execution_count": null,
   "metadata": {
    "colab": {},
    "colab_type": "code",
    "id": "pb3r_KaeJJ0d"
   },
   "outputs": [],
   "source": [
    "#change file path to point to where you have stored the zip file.\n",
    "df = pd.read_csv('/gdrive/My Drive/AI-ML/labeledTrainData.tsv.zip', header=0, delimiter=\"\\t\", quoting=3)"
   ]
  },
  {
   "cell_type": "code",
   "execution_count": null,
   "metadata": {
    "colab": {},
    "colab_type": "code",
    "id": "l70lgDrNJZ-F"
   },
   "outputs": [],
   "source": [
    "print('Number of examples in Dataset: ', df.shape)\n",
    "df.head()"
   ]
  },
  {
   "cell_type": "code",
   "execution_count": null,
   "metadata": {
    "colab": {},
    "colab_type": "code",
    "id": "Q12_oUDIIC-k"
   },
   "outputs": [],
   "source": [
    "df.loc[0, 'review']"
   ]
  },
  {
   "cell_type": "markdown",
   "metadata": {
    "colab_type": "text",
    "id": "45uxRF4rKMQq"
   },
   "source": [
    "Split Data into Training and Test Data"
   ]
  },
  {
   "cell_type": "code",
   "execution_count": null,
   "metadata": {
    "colab": {},
    "colab_type": "code",
    "id": "cwNZ5XEpKMQq"
   },
   "outputs": [],
   "source": [
    "from sklearn.model_selection import train_test_split"
   ]
  },
  {
   "cell_type": "code",
   "execution_count": null,
   "metadata": {
    "colab": {},
    "colab_type": "code",
    "id": "q-RNaPq2KMQt"
   },
   "outputs": [],
   "source": [
    "X_train, X_test, y_train, y_test = train_test_split(\n",
    "    df['review'],\n",
    "    df['sentiment'],\n",
    "    test_size=0.2, \n",
    "    random_state=42\n",
    ")"
   ]
  },
  {
   "cell_type": "code",
   "execution_count": null,
   "metadata": {
    "colab": {},
    "colab_type": "code",
    "id": "IdMWitcdByBs"
   },
   "outputs": [],
   "source": [
    "X_train.shape, X_test.shape"
   ]
  },
  {
   "cell_type": "markdown",
   "metadata": {
    "colab_type": "text",
    "id": "40sSeDoWKMQx"
   },
   "source": [
    "#### Build the Tokenizer"
   ]
  },
  {
   "cell_type": "code",
   "execution_count": null,
   "metadata": {
    "colab": {},
    "colab_type": "code",
    "id": "AGM55RRUM3fN"
   },
   "outputs": [],
   "source": [
    "import tensorflow as tf"
   ]
  },
  {
   "cell_type": "code",
   "execution_count": null,
   "metadata": {
    "colab": {},
    "colab_type": "code",
    "id": "LNB6T0EVKMQ6"
   },
   "outputs": [],
   "source": [
    "desired_vocab_size = 10000 #Vocablury size\n",
    "t = tf.keras.preprocessing.text.Tokenizer(num_words=desired_vocab_size, oov_token=32) # num_words -> Vocablury size"
   ]
  },
  {
   "cell_type": "code",
   "execution_count": null,
   "metadata": {
    "colab": {},
    "colab_type": "code",
    "id": "t65mfe_2KMQ8"
   },
   "outputs": [],
   "source": [
    "#Fit tokenizer with actual training data\n",
    "t.fit_on_texts(X_train.tolist())"
   ]
  },
  {
   "cell_type": "code",
   "execution_count": null,
   "metadata": {
    "colab": {},
    "colab_type": "code",
    "id": "6N7cgYEvVGzB"
   },
   "outputs": [],
   "source": [
    "#Vocabulary\n",
    "t.word_index"
   ]
  },
  {
   "cell_type": "markdown",
   "metadata": {
    "colab_type": "text",
    "id": "2GgPOuSzKMRA"
   },
   "source": [
    "#### Prepare Training and Test Data"
   ]
  },
  {
   "cell_type": "markdown",
   "metadata": {
    "colab_type": "text",
    "id": "8o8fG3FtKMRA"
   },
   "source": [
    "Get the word index for each of the word in the review"
   ]
  },
  {
   "cell_type": "code",
   "execution_count": null,
   "metadata": {
    "colab": {},
    "colab_type": "code",
    "id": "G9m65RFCVXCd"
   },
   "outputs": [],
   "source": [
    "X_train[0:1]"
   ]
  },
  {
   "cell_type": "code",
   "execution_count": null,
   "metadata": {
    "colab": {},
    "colab_type": "code",
    "id": "fNQIpYPKKMRB"
   },
   "outputs": [],
   "source": [
    "X_train = t.texts_to_sequences(X_train.tolist())"
   ]
  },
  {
   "cell_type": "code",
   "execution_count": null,
   "metadata": {
    "colab": {},
    "colab_type": "code",
    "id": "Xh1nDZFDVlB8"
   },
   "outputs": [],
   "source": [
    "print(X_train[0:1])"
   ]
  },
  {
   "cell_type": "code",
   "execution_count": null,
   "metadata": {
    "colab": {},
    "colab_type": "code",
    "id": "3Gix3lNmKMRD"
   },
   "outputs": [],
   "source": [
    "X_test = t.texts_to_sequences(X_test)"
   ]
  },
  {
   "cell_type": "markdown",
   "metadata": {
    "colab_type": "text",
    "id": "hb9z28TZKMRF"
   },
   "source": [
    "How many words in each review?"
   ]
  },
  {
   "cell_type": "code",
   "execution_count": null,
   "metadata": {
    "colab": {},
    "colab_type": "code",
    "id": "O7maQ5kpxdfI"
   },
   "outputs": [],
   "source": [
    "len(X_train[200])"
   ]
  },
  {
   "cell_type": "markdown",
   "metadata": {
    "colab_type": "text",
    "id": "fKmVWM5pKMRF"
   },
   "source": [
    "#### Pad Sequences - Important"
   ]
  },
  {
   "cell_type": "code",
   "execution_count": null,
   "metadata": {
    "colab": {},
    "colab_type": "code",
    "id": "h5YfEUx2KMRI"
   },
   "outputs": [],
   "source": [
    "#Define maximum number of words to consider in each review\n",
    "max_review_length = 300"
   ]
  },
  {
   "cell_type": "code",
   "execution_count": null,
   "metadata": {
    "colab": {},
    "colab_type": "code",
    "id": "aeJeFjogKMRM"
   },
   "outputs": [],
   "source": [
    "#Pad training and test reviews\n",
    "X_train = tf.keras.preprocessing.sequence.pad_sequences(X_train,\n",
    "                                                        maxlen=max_review_length,\n",
    "                                                        padding='pre')\n",
    "X_test = tf.keras.preprocessing.sequence.pad_sequences(X_test, \n",
    "                                                       maxlen=max_review_length, \n",
    "                                                       padding='pre')"
   ]
  },
  {
   "cell_type": "code",
   "execution_count": null,
   "metadata": {
    "colab": {},
    "colab_type": "code",
    "id": "i4GLCWBOlztU"
   },
   "outputs": [],
   "source": [
    "X_train.shape"
   ]
  },
  {
   "cell_type": "code",
   "execution_count": null,
   "metadata": {
    "colab": {},
    "colab_type": "code",
    "id": "6QJqX-Z5wL-W"
   },
   "outputs": [],
   "source": [
    "X_test.shape"
   ]
  },
  {
   "cell_type": "code",
   "execution_count": null,
   "metadata": {
    "colab": {},
    "colab_type": "code",
    "id": "HVteHr5IzS4I"
   },
   "outputs": [],
   "source": [
    "X_train[200]"
   ]
  },
  {
   "cell_type": "markdown",
   "metadata": {
    "colab_type": "text",
    "id": "m7CMlSVYCHNA"
   },
   "source": [
    "#### Download Google Word2Vec model"
   ]
  },
  {
   "cell_type": "code",
   "execution_count": null,
   "metadata": {
    "colab": {},
    "colab_type": "code",
    "id": "t9fS8hLYCLiD"
   },
   "outputs": [],
   "source": [
    "!pip install googledrivedownloader"
   ]
  },
  {
   "cell_type": "code",
   "execution_count": null,
   "metadata": {
    "colab": {},
    "colab_type": "code",
    "id": "eOTPKU69CM5_"
   },
   "outputs": [],
   "source": [
    "from google_drive_downloader import GoogleDriveDownloader as gdd\n",
    "\n",
    "gdd.download_file_from_google_drive(file_id='0B7XkCwpI5KDYNlNUTTlSS21pQmM',\n",
    "                                    dest_path='./GoogleNews-vectors-negative300.bin.gz',\n",
    "                                    unzip=True)"
   ]
  },
  {
   "cell_type": "code",
   "execution_count": null,
   "metadata": {
    "colab": {},
    "colab_type": "code",
    "id": "pHCMZ5kzCQ4A"
   },
   "outputs": [],
   "source": [
    "import gzip\n",
    "import shutil"
   ]
  },
  {
   "cell_type": "code",
   "execution_count": null,
   "metadata": {
    "colab": {},
    "colab_type": "code",
    "id": "Sq7qgQQGCUwZ"
   },
   "outputs": [],
   "source": [
    "with gzip.open('GoogleNews-vectors-negative300.bin.gz', 'rb') as f_in:\n",
    "    with open('GoogleNews-vectors-negative300.bin', 'wb') as f_out:\n",
    "        shutil.copyfileobj(f_in, f_out)"
   ]
  },
  {
   "cell_type": "code",
   "execution_count": null,
   "metadata": {
    "colab": {},
    "colab_type": "code",
    "id": "KeGsdG22CZWT"
   },
   "outputs": [],
   "source": [
    "!ls -l"
   ]
  },
  {
   "cell_type": "markdown",
   "metadata": {
    "colab_type": "text",
    "id": "UTZqcuaqB2cl"
   },
   "source": [
    "#### Get Pre-trained Embeddings"
   ]
  },
  {
   "cell_type": "code",
   "execution_count": null,
   "metadata": {
    "colab": {},
    "colab_type": "code",
    "id": "o1ycexOAB4qD"
   },
   "outputs": [],
   "source": [
    "import gensim"
   ]
  },
  {
   "cell_type": "code",
   "execution_count": null,
   "metadata": {
    "colab": {},
    "colab_type": "code",
    "id": "tnfmU0U7B1ja"
   },
   "outputs": [],
   "source": [
    "from gensim.models import Word2Vec, KeyedVectors\n",
    "\n",
    "# Load pretrained model\n",
    "model = KeyedVectors.load_word2vec_format('GoogleNews-vectors-negative300.bin', binary=True)"
   ]
  },
  {
   "cell_type": "code",
   "execution_count": null,
   "metadata": {
    "colab": {},
    "colab_type": "code",
    "id": "FHtF9_OzDGh6"
   },
   "outputs": [],
   "source": [
    "#Loading your own trained\n",
    "#word2vec = gensim.models.Word2Vec.load('word2vec-movie-50')"
   ]
  },
  {
   "cell_type": "code",
   "execution_count": null,
   "metadata": {
    "colab": {},
    "colab_type": "code",
    "id": "SbgVAzAPDl1O"
   },
   "outputs": [],
   "source": [
    "embedding_vector_length = 300"
   ]
  },
  {
   "cell_type": "markdown",
   "metadata": {
    "colab_type": "text",
    "id": "kBQOS906KX0p"
   },
   "source": [
    "Google Word2Vec model has vocabulary size of 3M words. In this example, we have only 10000 words as vocabulary. This means we do not require entire Google Word2Vec model. Rather, we will only take the embeddings of the words that are in our dataset vocabulary."
   ]
  },
  {
   "cell_type": "code",
   "execution_count": null,
   "metadata": {
    "colab": {},
    "colab_type": "code",
    "id": "HPNcZC9PEA8v"
   },
   "outputs": [],
   "source": [
    "#Initialize embedding matrix for our dataset with 10000+1 rows (1 for padding word)\n",
    "#and 300 columns (as embedding size is 300)\n",
    "embedding_matrix = np.zeros((desired_vocab_size + 1, embedding_vector_length))"
   ]
  },
  {
   "cell_type": "code",
   "execution_count": null,
   "metadata": {
    "colab": {},
    "colab_type": "code",
    "id": "mufDrkM-EKlK"
   },
   "outputs": [],
   "source": [
    "#Load word vectors for each word from Google Word2Vec model\n",
    "for word, i in sorted(t.word_index.items(),key=lambda x:x[1]):\n",
    "    if i > (desired_vocab_size+1):\n",
    "        break\n",
    "    try:\n",
    "        embedding_vector = model[word] #Reading word's embedding from Google Word2Vec\n",
    "        embedding_matrix[i] = embedding_vector\n",
    "    except:\n",
    "        pass"
   ]
  },
  {
   "cell_type": "markdown",
   "metadata": {
    "colab_type": "text",
    "id": "3Ww5J3x_LGg3"
   },
   "source": [
    "We now have word embeddings for our vocabulary words from Google Word2Vec model. We can now use it in our Model training."
   ]
  },
  {
   "cell_type": "code",
   "execution_count": null,
   "metadata": {
    "colab": {},
    "colab_type": "code",
    "id": "qeZNhU2ZEs1w"
   },
   "outputs": [],
   "source": [
    "#embedding_matrix[2]"
   ]
  },
  {
   "cell_type": "markdown",
   "metadata": {
    "colab_type": "text",
    "id": "wAOvV9C_KMRl"
   },
   "source": [
    "#### Build Model - Dense Layers"
   ]
  },
  {
   "cell_type": "code",
   "execution_count": null,
   "metadata": {
    "colab": {},
    "colab_type": "code",
    "id": "pWtUZzM3KMRs"
   },
   "outputs": [],
   "source": [
    "#Initialize model\n",
    "tf.keras.backend.clear_session()\n",
    "model = tf.keras.Sequential()"
   ]
  },
  {
   "cell_type": "markdown",
   "metadata": {
    "colab_type": "text",
    "id": "Rbo6eeNGMtWn"
   },
   "source": [
    "To handle, pre-trained embeddings, we will use Keras Embedding layer"
   ]
  },
  {
   "cell_type": "code",
   "execution_count": null,
   "metadata": {
    "colab": {},
    "colab_type": "code",
    "id": "vUTG9uAMM-z3"
   },
   "outputs": [],
   "source": [
    "model.add(tf.keras.layers.Embedding(desired_vocab_size + 1, #Vocablury size\n",
    "                                    embedding_vector_length, #Embedding size\n",
    "                                    weights=[embedding_matrix], #Embeddings taken from pre-trained model\n",
    "                                    trainable=False, #As embeddings are already available, we will not train this layer. It will act as lookup layer.\n",
    "                                    input_length=max_review_length) #Number of words in each review\n",
    "          )"
   ]
  },
  {
   "cell_type": "markdown",
   "metadata": {
    "colab_type": "text",
    "id": "KKyc5UQSMDQG"
   },
   "source": [
    "Embedding Layer gives us 3D output ->\n",
    "[Batch_Size , Review Length , Embedding_Size]"
   ]
  },
  {
   "cell_type": "code",
   "execution_count": null,
   "metadata": {
    "colab": {},
    "colab_type": "code",
    "id": "ezX7QcD8NSmw"
   },
   "outputs": [],
   "source": [
    "model.output"
   ]
  },
  {
   "cell_type": "code",
   "execution_count": null,
   "metadata": {
    "colab": {},
    "colab_type": "code",
    "id": "iWcKzPbsMFZx"
   },
   "outputs": [],
   "source": [
    "model.add(tf.keras.layers.Reshape((300*300,), input_shape=(300,300,)))"
   ]
  },
  {
   "cell_type": "markdown",
   "metadata": {
    "colab_type": "text",
    "id": "DF_wJp6sKMRv"
   },
   "source": [
    "Add Hidden layers"
   ]
  },
  {
   "cell_type": "code",
   "execution_count": null,
   "metadata": {
    "colab": {},
    "colab_type": "code",
    "id": "iignS5XqKMRv"
   },
   "outputs": [],
   "source": [
    "#Flatten the data as we will use Dense layers\n",
    "model.add(tf.keras.layers.Flatten())\n",
    "\n",
    "#Add Hidden layers (Dense layers)\n",
    "model.add(tf.keras.layers.Dense(100, activation='relu', input_shape=()))\n",
    "model.add(tf.keras.layers.BatchNormalization())\n",
    "model.add(tf.keras.layers.Dense(50, activation='relu'))\n",
    "model.add(tf.keras.layers.BatchNormalization())\n",
    "model.add(tf.keras.layers.Dense(25, activation='relu'))\n",
    "model.add(tf.keras.layers.Dropout(0.25))"
   ]
  },
  {
   "cell_type": "markdown",
   "metadata": {
    "colab_type": "text",
    "id": "Q8ua5Dj8LVk2"
   },
   "source": [
    "Add Output layer"
   ]
  },
  {
   "cell_type": "code",
   "execution_count": null,
   "metadata": {
    "colab": {},
    "colab_type": "code",
    "id": "9esFq2mNZfFZ"
   },
   "outputs": [],
   "source": [
    "model.add(tf.keras.layers.Dense(1, activation='sigmoid'))"
   ]
  },
  {
   "cell_type": "code",
   "execution_count": null,
   "metadata": {
    "colab": {},
    "colab_type": "code",
    "id": "GobXBLHXKMR9"
   },
   "outputs": [],
   "source": [
    "#Compile the model\n",
    "model.compile(optimizer='adam',loss='binary_crossentropy',metrics=['accuracy'])"
   ]
  },
  {
   "cell_type": "code",
   "execution_count": null,
   "metadata": {
    "colab": {},
    "colab_type": "code",
    "id": "iueK1G3pOznW"
   },
   "outputs": [],
   "source": [
    "model.summary()"
   ]
  },
  {
   "cell_type": "markdown",
   "metadata": {
    "colab_type": "text",
    "id": "j_aH5TX5KMSA"
   },
   "source": [
    "##### Train Model"
   ]
  },
  {
   "cell_type": "code",
   "execution_count": null,
   "metadata": {
    "colab": {},
    "colab_type": "code",
    "id": "AV3TceqjKMSC",
    "scrolled": true
   },
   "outputs": [],
   "source": [
    "model.fit(X_train,y_train,\n",
    "          epochs=5,\n",
    "          batch_size=32,          \n",
    "          validation_data=(X_test, y_test))"
   ]
  },
  {
   "cell_type": "markdown",
   "metadata": {
    "colab_type": "text",
    "id": "2NvjDJo7OYOb"
   },
   "source": [
    "#### Building a CNN Model"
   ]
  },
  {
   "cell_type": "markdown",
   "metadata": {
    "colab_type": "text",
    "id": "PlhUrG_EO2Ga"
   },
   "source": [
    "Start a model"
   ]
  },
  {
   "cell_type": "code",
   "execution_count": null,
   "metadata": {
    "colab": {},
    "colab_type": "code",
    "id": "tc0ZANd3OaWs"
   },
   "outputs": [],
   "source": [
    "model2 = tf.keras.Sequential()"
   ]
  },
  {
   "cell_type": "markdown",
   "metadata": {
    "colab_type": "text",
    "id": "eRX6YC7_O3to"
   },
   "source": [
    "Add Embedding layer to handle Word2Vec"
   ]
  },
  {
   "cell_type": "code",
   "execution_count": null,
   "metadata": {
    "colab": {},
    "colab_type": "code",
    "id": "gF2fufQFOx2w"
   },
   "outputs": [],
   "source": [
    "model2.add(tf.keras.layers.Embedding(desired_vocab_size + 1, #Vocablury size\n",
    "                                    embedding_vector_length, #Embedding size\n",
    "                                    weights=[embedding_matrix], #Embeddings taken from pre-trained model\n",
    "                                    trainable=False, #As embeddings are already available, we will not train this layer. It will act as lookup layer.\n",
    "                                    input_length=max_review_length) #Number of words in each review\n",
    "          )"
   ]
  },
  {
   "cell_type": "markdown",
   "metadata": {
    "colab_type": "text",
    "id": "VJRM3ICZO8lD"
   },
   "source": [
    "Add Conv1D hidden layers : As our text data is 2D (number of words, Embedding size), we will use Conv1D in this case (compared to Conv2D with images which are 3D)"
   ]
  },
  {
   "cell_type": "code",
   "execution_count": null,
   "metadata": {
    "colab": {},
    "colab_type": "code",
    "id": "3a03h-_9OmqL"
   },
   "outputs": [],
   "source": [
    "#Add first convolutional layer\n",
    "model2.add(tf.keras.layers.Conv1D(32, #Number of filters \n",
    "                                 kernel_size=(3), #Size of the filter\n",
    "                                 strides=1,\n",
    "                                 activation='relu'))\n",
    "\n",
    "#normalize data\n",
    "model2.add(tf.keras.layers.BatchNormalization())\n",
    "\n",
    "#Add second convolutional layer\n",
    "model2.add(tf.keras.layers.Conv1D(64, kernel_size=(3), strides=2))\n",
    "model2.add(tf.keras.layers.ReLU())\n",
    "\n",
    "#normalize data\n",
    "model2.add(tf.keras.layers.BatchNormalization())"
   ]
  },
  {
   "cell_type": "code",
   "execution_count": null,
   "metadata": {
    "colab": {},
    "colab_type": "code",
    "id": "fKJbqsCNPTLr"
   },
   "outputs": [],
   "source": [
    "#Use Global Average Pooling\n",
    "model2.add(tf.keras.layers.GlobalAveragePooling1D())\n",
    "\n",
    "#Output layer\n",
    "model2.add(tf.keras.layers.Dense(1, activation='sigmoid'))"
   ]
  },
  {
   "cell_type": "code",
   "execution_count": null,
   "metadata": {
    "colab": {},
    "colab_type": "code",
    "id": "FZCe3ghEPjyx"
   },
   "outputs": [],
   "source": [
    "#Compile the model\n",
    "model2.compile(optimizer='adam',loss='binary_crossentropy',metrics=['accuracy'])"
   ]
  },
  {
   "cell_type": "code",
   "execution_count": null,
   "metadata": {
    "colab": {},
    "colab_type": "code",
    "id": "Ekq97ri0Pne2"
   },
   "outputs": [],
   "source": [
    "model2.summary()"
   ]
  },
  {
   "cell_type": "code",
   "execution_count": null,
   "metadata": {
    "colab": {},
    "colab_type": "code",
    "id": "0w0oGtKpPxkp"
   },
   "outputs": [],
   "source": [
    "model2.fit(X_train,y_train,\n",
    "          epochs=5,\n",
    "          batch_size=32,          \n",
    "          validation_data=(X_test, y_test))"
   ]
  }
 ],
 "metadata": {
  "accelerator": "GPU",
  "colab": {
   "collapsed_sections": [
    "mQKm7K78KMQa",
    "40sSeDoWKMQx",
    "2GgPOuSzKMRA",
    "fKmVWM5pKMRF",
    "m7CMlSVYCHNA",
    "UTZqcuaqB2cl",
    "wAOvV9C_KMRl",
    "j_aH5TX5KMSA",
    "2NvjDJo7OYOb"
   ],
   "name": "4b. Sentiment_Analysis_Google_Word2Vec_Embedding_LSTM.ipynb",
   "private_outputs": true,
   "provenance": []
  },
  "kernelspec": {
   "display_name": "Python 3",
   "language": "python",
   "name": "python3"
  },
  "language_info": {
   "codemirror_mode": {
    "name": "ipython",
    "version": 3
   },
   "file_extension": ".py",
   "mimetype": "text/x-python",
   "name": "python",
   "nbconvert_exporter": "python",
   "pygments_lexer": "ipython3",
   "version": "3.8.3"
  }
 },
 "nbformat": 4,
 "nbformat_minor": 1
}
